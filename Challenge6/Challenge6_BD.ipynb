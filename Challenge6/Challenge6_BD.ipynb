{
 "cells": [
  {
   "cell_type": "code",
   "execution_count": null,
   "id": "682c9319",
   "metadata": {},
   "outputs": [],
   "source": [
    "# vamos a importar requests para hacer las peticiones http basicamente estamos bajando las paginas web\n",
    "import requests \n",
    "\n",
    "# importamos Bs para analizar el html y extraer informacion de el mismo\n",
    "from bs4 import BeautifulSoup\n",
    "\n",
    "\n",
    "# importamos pandas para guardar los resultados en una tabla osea un dataframe\n",
    "import pandas as pd \n",
    "\n",
    "# esta es la url base del sitio que vamos a scrapear\n",
    "BASE_URL = \"http://books.toscrape.com/\""
   ]
  },
  {
   "cell_type": "code",
   "execution_count": null,
   "id": "3d864bc8",
   "metadata": {},
   "outputs": [],
   "source": [
    "# estamos haciendo peticion a la pp\n",
    "response = requests.get(BASE_URL)\n",
    "\n",
    "#creamos un objeto para parsear el html de la pagina\n",
    "soup = BeautifulSoup(response.text, \"html.parser\")\n",
    "\n",
    "#buscamos el bloque HTML donde estan todas las categorias\n",
    "categorias_html = soup.find(\"ul\", class_=\"nav-list\").find(\"ul\").find_all(\"a\")\n",
    "\n",
    "#vamos a crear un dicciconario {nombre_categoria: link_categoria}\n",
    "categorias = {}\n",
    "for c in categorias_html:\n",
    "    nombre = c.text.strip()  # nombre de la categoria ej: Travel, Mistery, etc \n",
    "    link = BASE_URL + c[\"href\"] # es el enlace absoluto a la categoria \n",
    "    categorias[nombre] = link\n",
    "\n",
    "# Mostramos cuántas categorías encontramos (deben ser 50 incluyendo 'Books', o 49 sin la principal)\n",
    "print(\"Categorías encontradas:\", len(categorias))\n",
    "print(list(categorias.keys())[:5])   # Mostramos las primeras 5 categorías como ejemplo"
   ]
  }
 ],
 "metadata": {
  "kernelspec": {
   "display_name": "Python 3",
   "language": "python",
   "name": "python3"
  },
  "language_info": {
   "codemirror_mode": {
    "name": "ipython",
    "version": 3
   },
   "file_extension": ".py",
   "mimetype": "text/x-python",
   "name": "python",
   "nbconvert_exporter": "python",
   "pygments_lexer": "ipython3",
   "version": "3.13.5"
  }
 },
 "nbformat": 4,
 "nbformat_minor": 5
}
